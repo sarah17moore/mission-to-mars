{
 "cells": [
  {
   "cell_type": "code",
   "execution_count": 1,
   "id": "24f076f1",
   "metadata": {},
   "outputs": [],
   "source": [
    "# Import Splinter and BeautifulSoup\n",
    "from splinter import Browser\n",
    "from bs4 import BeautifulSoup as soup\n",
    "from webdriver_manager.chrome import ChromeDriverManager"
   ]
  },
  {
   "cell_type": "code",
   "execution_count": 2,
   "id": "ecd91880",
   "metadata": {},
   "outputs": [],
   "source": [
    "executable_path = {'executable_path': ChromeDriverManager().install()}\n",
    "browser = Browser('chrome', **executable_path, headless=False)"
   ]
  },
  {
   "cell_type": "code",
   "execution_count": 3,
   "id": "1f4b5554",
   "metadata": {},
   "outputs": [
    {
     "data": {
      "text/plain": [
       "True"
      ]
     },
     "execution_count": 3,
     "metadata": {},
     "output_type": "execute_result"
    }
   ],
   "source": [
    "# Visit the Mars NASA news site\n",
    "url = 'https://redplanetscience.com'\n",
    "browser.visit(url)\n",
    "# Optional delay for loading the page\n",
    "browser.is_element_present_by_css('div.list_text', wait_time=1)"
   ]
  },
  {
   "cell_type": "code",
   "execution_count": 4,
   "id": "395cee79",
   "metadata": {},
   "outputs": [],
   "source": [
    "html = browser.html\n",
    "news_soup = soup(html, 'html.parser')\n"
   ]
  },
  {
   "cell_type": "code",
   "execution_count": 5,
   "id": "fa8b22d9",
   "metadata": {},
   "outputs": [
    {
     "name": "stdout",
     "output_type": "stream",
     "text": [
      "page: 0 ----------\n",
      "NASA's Mars Perseverance Rover Passes Flight Readiness Review\n",
      "page: 0 ----------\n",
      "10.9 Million Names Now Aboard NASA's Perseverance Mars Rover\n",
      "page: 0 ----------\n",
      "NASA Prepares for Moon and Mars With New Addition to Its Deep Space Network\n",
      "page: 0 ----------\n",
      "MOXIE Could Help Future Rockets Launch Off Mars\n",
      "page: 0 ----------\n",
      "NASA's Ingenuity Mars Helicopter Recharges Its Batteries in Flight\n",
      "page: 0 ----------\n",
      "What's Mars Solar Conjunction, and Why Does It Matter?\n",
      "page: 0 ----------\n",
      "NASA's Perseverance Rover Mission Getting in Shape for Launch\n",
      "page: 0 ----------\n",
      "Robotic Toolkit Added to NASA's Mars 2020 Rover\n",
      "page: 0 ----------\n",
      "NASA's Perseverance Rover Attached to Atlas V Rocket\n",
      "page: 0 ----------\n",
      "NASA Updates Mars 2020 Mission Environmental Review\n",
      "page: 0 ----------\n",
      "NASA's Mars Helicopter Attached to Mars 2020 Rover \n",
      "page: 0 ----------\n",
      "All About the Laser (and Microphone) Atop Mars 2020, NASA's Next Rover\n",
      "page: 0 ----------\n",
      "6 Things to Know About NASA's Ingenuity Mars Helicopter\n",
      "page: 0 ----------\n",
      "Deadline Closing for Names to Fly on NASA's Next Mars Rover\n",
      "page: 0 ----------\n",
      "NASA Adds Return Sample Scientists to Mars 2020 Leadership Team\n",
      "​The agency's Mars 2020 mission has one more big prelaunch review – the Launch Readiness Review, on July 27.\n",
      "As part of NASA's 'Send Your Name to Mars' campaign, they've been stenciled onto three microchips along with essays from NASA's 'Name the Rover' contest. Next stop: Mars.\n",
      "Robotic spacecraft will be able to communicate with the dish using radio waves and lasers.\n",
      "NASA's Perseverance rover carries a device to convert Martian air into oxygen that, if produced on a larger scale, could be used not just for breathing, but also for fuel.\n",
      "Headed to the Red Planet with the Perseverance rover, the pioneering helicopter is powered up for the first time in interplanetary space as part of a systems check.\n",
      "NASA spacecraft at Mars are going to be on their own for a few weeks when the Sun comes between Mars and Earth, interrupting communications.\n",
      "Stacking spacecraft components on top of each other is one of the final assembly steps before a mission launches to the Red Planet. \n",
      "The bit carousel, which lies at the heart of the rover's Sample Caching System, is now aboard NASA's newest rover. \n",
      "Ready for its launch later in the month, the Mars-bound rover will touch terra firma no more.\n",
      "NASA and the Department of Energy have completed a more detailed risk analysis for the Mars 2020 rover launch from Florida.\n",
      "The helicopter will be first aircraft to perform flight tests on another planet.\n",
      "SuperCam is a rock-vaporizing instrument that will help scientists hunt for Mars fossils.\n",
      "The first helicopter attempting to fly on another planet is a marvel of engineering. Get up to speed with these key facts about its plans.\n",
      "You have until Sept. 30 to send your names to Mars aboard the Mars 2020 rover. \n",
      "The leadership council for Mars 2020 science added two new members who represent the interests of scientists destined to handle and study the first samples from Red Planet.\n"
     ]
    }
   ],
   "source": [
    "title_list = []\n",
    "preview_list = []\n",
    "for x in range(1):\n",
    "   html = browser.html\n",
    "   news_soup = soup(html, 'html.parser')\n",
    "   titles = news_soup.find_all('div', class_='content_title')\n",
    "   previews = news_soup.find_all('div', class_='article_teaser_body')\n",
    "   for title in titles:\n",
    "      print('page:', x, '----------')\n",
    "      print(title.text)\n",
    "      title_list.append(title.text)\n",
    "   for preview in previews:\n",
    "      print(preview.text)\n",
    "      preview_list.append(preview.text)\n",
    "   "
   ]
  },
  {
   "cell_type": "code",
   "execution_count": 6,
   "id": "fce21fdb",
   "metadata": {},
   "outputs": [
    {
     "data": {
      "text/plain": [
       "{\"NASA's Mars Perseverance Rover Passes Flight Readiness Review\": \"\\u200bThe agency's Mars 2020 mission has one more big prelaunch review – the Launch Readiness Review, on July 27.\",\n",
       " \"10.9 Million Names Now Aboard NASA's Perseverance Mars Rover\": \"As part of NASA's 'Send Your Name to Mars' campaign, they've been stenciled onto three microchips along with essays from NASA's 'Name the Rover' contest. Next stop: Mars.\",\n",
       " 'NASA Prepares for Moon and Mars With New Addition to Its Deep Space Network': 'Robotic spacecraft will be able to communicate with the dish using radio waves and lasers.',\n",
       " 'MOXIE Could Help Future Rockets Launch Off Mars': \"NASA's Perseverance rover carries a device to convert Martian air into oxygen that, if produced on a larger scale, could be used not just for breathing, but also for fuel.\",\n",
       " \"NASA's Ingenuity Mars Helicopter Recharges Its Batteries in Flight\": 'Headed to the Red Planet with the Perseverance rover, the pioneering helicopter is powered up for the first time in interplanetary space as part of a systems check.',\n",
       " \"What's Mars Solar Conjunction, and Why Does It Matter?\": 'NASA spacecraft at Mars are going to be on their own for a few weeks when the Sun comes between Mars and Earth, interrupting communications.',\n",
       " \"NASA's Perseverance Rover Mission Getting in Shape for Launch\": 'Stacking spacecraft components on top of each other is one of the final assembly steps before a mission launches to the Red Planet. ',\n",
       " \"Robotic Toolkit Added to NASA's Mars 2020 Rover\": \"The bit carousel, which lies at the heart of the rover's Sample Caching System, is now aboard NASA's newest rover. \",\n",
       " \"NASA's Perseverance Rover Attached to Atlas V Rocket\": 'Ready for its launch later in the month, the Mars-bound rover will touch terra firma no more.',\n",
       " 'NASA Updates Mars 2020 Mission Environmental Review': 'NASA and the Department of Energy have completed a more detailed risk analysis for the Mars 2020 rover launch from Florida.',\n",
       " \"NASA's Mars Helicopter Attached to Mars 2020 Rover \": 'The helicopter will be first aircraft to perform flight tests on another planet.',\n",
       " \"All About the Laser (and Microphone) Atop Mars 2020, NASA's Next Rover\": 'SuperCam is a rock-vaporizing instrument that will help scientists hunt for Mars fossils.',\n",
       " \"6 Things to Know About NASA's Ingenuity Mars Helicopter\": 'The first helicopter attempting to fly on another planet is a marvel of engineering. Get up to speed with these key facts about its plans.',\n",
       " \"Deadline Closing for Names to Fly on NASA's Next Mars Rover\": 'You have until Sept. 30 to send your names to Mars aboard the Mars 2020 rover. ',\n",
       " 'NASA Adds Return Sample Scientists to Mars 2020 Leadership Team': 'The leadership council for Mars 2020 science added two new members who represent the interests of scientists destined to handle and study the first samples from Red Planet.'}"
      ]
     },
     "execution_count": 6,
     "metadata": {},
     "output_type": "execute_result"
    }
   ],
   "source": [
    "page_info = dict(zip(title_list, preview_list))\n",
    "page_info"
   ]
  },
  {
   "cell_type": "code",
   "execution_count": 7,
   "id": "db49fb0e",
   "metadata": {},
   "outputs": [],
   "source": [
    "page_list = list(page_info.items())"
   ]
  },
  {
   "cell_type": "code",
   "execution_count": 8,
   "id": "de615bcb",
   "metadata": {},
   "outputs": [
    {
     "data": {
      "text/plain": [
       "[(\"NASA's Mars Perseverance Rover Passes Flight Readiness Review\",\n",
       "  \"\\u200bThe agency's Mars 2020 mission has one more big prelaunch review – the Launch Readiness Review, on July 27.\"),\n",
       " (\"10.9 Million Names Now Aboard NASA's Perseverance Mars Rover\",\n",
       "  \"As part of NASA's 'Send Your Name to Mars' campaign, they've been stenciled onto three microchips along with essays from NASA's 'Name the Rover' contest. Next stop: Mars.\"),\n",
       " ('NASA Prepares for Moon and Mars With New Addition to Its Deep Space Network',\n",
       "  'Robotic spacecraft will be able to communicate with the dish using radio waves and lasers.'),\n",
       " ('MOXIE Could Help Future Rockets Launch Off Mars',\n",
       "  \"NASA's Perseverance rover carries a device to convert Martian air into oxygen that, if produced on a larger scale, could be used not just for breathing, but also for fuel.\"),\n",
       " (\"NASA's Ingenuity Mars Helicopter Recharges Its Batteries in Flight\",\n",
       "  'Headed to the Red Planet with the Perseverance rover, the pioneering helicopter is powered up for the first time in interplanetary space as part of a systems check.'),\n",
       " (\"What's Mars Solar Conjunction, and Why Does It Matter?\",\n",
       "  'NASA spacecraft at Mars are going to be on their own for a few weeks when the Sun comes between Mars and Earth, interrupting communications.'),\n",
       " (\"NASA's Perseverance Rover Mission Getting in Shape for Launch\",\n",
       "  'Stacking spacecraft components on top of each other is one of the final assembly steps before a mission launches to the Red Planet. '),\n",
       " (\"Robotic Toolkit Added to NASA's Mars 2020 Rover\",\n",
       "  \"The bit carousel, which lies at the heart of the rover's Sample Caching System, is now aboard NASA's newest rover. \"),\n",
       " (\"NASA's Perseverance Rover Attached to Atlas V Rocket\",\n",
       "  'Ready for its launch later in the month, the Mars-bound rover will touch terra firma no more.'),\n",
       " ('NASA Updates Mars 2020 Mission Environmental Review',\n",
       "  'NASA and the Department of Energy have completed a more detailed risk analysis for the Mars 2020 rover launch from Florida.'),\n",
       " (\"NASA's Mars Helicopter Attached to Mars 2020 Rover \",\n",
       "  'The helicopter will be first aircraft to perform flight tests on another planet.'),\n",
       " (\"All About the Laser (and Microphone) Atop Mars 2020, NASA's Next Rover\",\n",
       "  'SuperCam is a rock-vaporizing instrument that will help scientists hunt for Mars fossils.'),\n",
       " (\"6 Things to Know About NASA's Ingenuity Mars Helicopter\",\n",
       "  'The first helicopter attempting to fly on another planet is a marvel of engineering. Get up to speed with these key facts about its plans.'),\n",
       " (\"Deadline Closing for Names to Fly on NASA's Next Mars Rover\",\n",
       "  'You have until Sept. 30 to send your names to Mars aboard the Mars 2020 rover. '),\n",
       " ('NASA Adds Return Sample Scientists to Mars 2020 Leadership Team',\n",
       "  'The leadership council for Mars 2020 science added two new members who represent the interests of scientists destined to handle and study the first samples from Red Planet.')]"
      ]
     },
     "execution_count": 8,
     "metadata": {},
     "output_type": "execute_result"
    }
   ],
   "source": [
    "page_list"
   ]
  },
  {
   "cell_type": "code",
   "execution_count": 9,
   "id": "15d488b4",
   "metadata": {},
   "outputs": [],
   "source": [
    "browser.quit()"
   ]
  },
  {
   "cell_type": "code",
   "execution_count": null,
   "id": "ec5ff0c4",
   "metadata": {},
   "outputs": [],
   "source": []
  }
 ],
 "metadata": {
  "kernelspec": {
   "display_name": "PyThonData",
   "language": "python",
   "name": "pythondata"
  },
  "language_info": {
   "codemirror_mode": {
    "name": "ipython",
    "version": 3
   },
   "file_extension": ".py",
   "mimetype": "text/x-python",
   "name": "python",
   "nbconvert_exporter": "python",
   "pygments_lexer": "ipython3",
   "version": "3.9.12"
  }
 },
 "nbformat": 4,
 "nbformat_minor": 5
}
